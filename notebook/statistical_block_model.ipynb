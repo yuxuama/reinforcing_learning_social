{
 "cells": [
  {
   "cell_type": "markdown",
   "id": "4f9e376f",
   "metadata": {},
   "source": [
    "# Stochastic block model analysis using `graph-tool`\n",
    "\n",
    "**Warning:** This notebook can only run on a Linux (or Mac OS) as the `graph-tool` module is not available on Windows"
   ]
  },
  {
   "cell_type": "code",
   "execution_count": 1,
   "id": "3e9b0a95",
   "metadata": {},
   "outputs": [],
   "source": [
    "import graph_tool.all as gt\n",
    "import sys\n",
    "sys.path.append(r\"../\")\n",
    "\n",
    "from analysis.analysis_utils import *\n",
    "import matplotlib.pyplot as plt\n",
    "from tqdm import tqdm"
   ]
  },
  {
   "cell_type": "code",
   "execution_count": 2,
   "id": "568d0a56",
   "metadata": {},
   "outputs": [],
   "source": [
    "# Loading network from file\n",
    "filepath = r\"../out/memory_test/E3O2P21R12T17_S75_T0.6_M10000_N1000000_init/E3O2P21R12T17_S75_T0.6_M10000_N1000000_init.h5\"\n",
    "adj_matrices, parameters = extract_all_info_from_hdf5(filepath)\n",
    "niter = parameters[\"Number of interaction\"]\n",
    "size = parameters[\"Community size\"]\n",
    "phenotype_table = get_phenotype_table_from_parameters(parameters)"
   ]
  },
  {
   "cell_type": "code",
   "execution_count": 3,
   "id": "903c65e0",
   "metadata": {},
   "outputs": [],
   "source": [
    "# Network to graph tool graph\n",
    "edge_list = generate_edge_list_from_matrices(adj_matrices[\"peTotal\"], adj_matrices[\"link\"])\n",
    "g = gt.Graph()\n",
    "etrust = g.new_edge_property(\"double\")\n",
    "elink = g.new_edge_property(\"int\")\n",
    "g.edge_properties[\"trust\"] = etrust\n",
    "g.edge_properties[\"link\"] = elink\n",
    "g.add_edge_list(edge_list, eprops=[g.ep.trust, g.ep.link])\n",
    "\n",
    "ph = g.new_vertex_property(\"string\", vals=phenotype_table)\n",
    "g.vertex_properties[\"Phenotype\"] = ph"
   ]
  },
  {
   "cell_type": "code",
   "execution_count": 6,
   "id": "d0f69351",
   "metadata": {},
   "outputs": [
    {
     "name": "stdout",
     "output_type": "stream",
     "text": [
      "Non degree corrected entropy:  5624.08104665198\n",
      "Degree corrected entropy:  5483.885577218024\n",
      "With - without:  -140.19546943395562\n"
     ]
    }
   ],
   "source": [
    "state_ndc = gt.minimize_nested_blockmodel_dl(g, state_args=dict(deg_corr=False))\n",
    "state_dc  = gt.minimize_nested_blockmodel_dl(g, state_args=dict(deg_corr=True)) # By default\n",
    "\n",
    "print(\"Non degree corrected entropy: \", state_ndc.entropy())\n",
    "print(\"Degree corrected entropy: \", state_dc.entropy())\n",
    "print(\"With - without: \", state_dc.entropy() - state_ndc.entropy())\n",
    "\n",
    "state = state_dc"
   ]
  },
  {
   "cell_type": "code",
   "execution_count": 5,
   "id": "d84f241a",
   "metadata": {},
   "outputs": [
    {
     "name": "stderr",
     "output_type": "stream",
     "text": [
      "  0%|          | 0/1000 [00:00<?, ?it/s]"
     ]
    },
    {
     "name": "stderr",
     "output_type": "stream",
     "text": [
      "  1%|▏         | 14/1000 [00:21<25:24,  1.55s/it]\n"
     ]
    },
    {
     "ename": "KeyboardInterrupt",
     "evalue": "",
     "output_type": "error",
     "traceback": [
      "\u001b[31m---------------------------------------------------------------------------\u001b[39m",
      "\u001b[31mKeyboardInterrupt\u001b[39m                         Traceback (most recent call last)",
      "\u001b[36mCell\u001b[39m\u001b[36m \u001b[39m\u001b[32mIn[5]\u001b[39m\u001b[32m, line 7\u001b[39m\n\u001b[32m      5\u001b[39m S[\u001b[32m0\u001b[39m] = state.entropy()\n\u001b[32m      6\u001b[39m \u001b[38;5;28;01mfor\u001b[39;00m i \u001b[38;5;129;01min\u001b[39;00m tqdm(\u001b[38;5;28mrange\u001b[39m(\u001b[32m1000\u001b[39m)): \u001b[38;5;66;03m# this should be sufficiently large\u001b[39;00m\n\u001b[32m----> \u001b[39m\u001b[32m7\u001b[39m    \u001b[43mstate\u001b[49m\u001b[43m.\u001b[49m\u001b[43mmultiflip_mcmc_sweep\u001b[49m\u001b[43m(\u001b[49m\u001b[43mbeta\u001b[49m\u001b[43m=\u001b[49m\u001b[43mnp\u001b[49m\u001b[43m.\u001b[49m\u001b[43minf\u001b[49m\u001b[43m,\u001b[49m\u001b[43m \u001b[49m\u001b[43mniter\u001b[49m\u001b[43m=\u001b[49m\u001b[32;43m1000\u001b[39;49m\u001b[43m)\u001b[49m\n\u001b[32m      8\u001b[39m    S[i+\u001b[32m1\u001b[39m] = state.entropy()\n\u001b[32m     10\u001b[39m plt.plot(S)\n",
      "\u001b[36mFile \u001b[39m\u001b[32m~/miniconda3/envs/gt_env/lib/python3.13/site-packages/graph_tool/inference/base_states.py:79\u001b[39m, in \u001b[36mmcmc_sweep_wrap.<locals>.wrapper\u001b[39m\u001b[34m(self, *args, **kwargs)\u001b[39m\n\u001b[32m     76\u001b[39m         \u001b[38;5;28;01massert\u001b[39;00m \u001b[38;5;28mself\u001b[39m._check_clabel(), \u001b[33m\"\u001b[39m\u001b[33minvalid clabel before sweep\u001b[39m\u001b[33m\"\u001b[39m\n\u001b[32m     77\u001b[39m     Si = \u001b[38;5;28mself\u001b[39m.entropy(**entropy_args)\n\u001b[32m---> \u001b[39m\u001b[32m79\u001b[39m ret = \u001b[43mfunc\u001b[49m\u001b[43m(\u001b[49m\u001b[38;5;28;43mself\u001b[39;49m\u001b[43m,\u001b[49m\u001b[43m \u001b[49m\u001b[43m*\u001b[49m\u001b[43margs\u001b[49m\u001b[43m,\u001b[49m\u001b[43m \u001b[49m\u001b[43m*\u001b[49m\u001b[43m*\u001b[49m\u001b[43mkwargs\u001b[49m\u001b[43m)\u001b[49m\n\u001b[32m     81\u001b[39m \u001b[38;5;28;01mif\u001b[39;00m _bm_test() \u001b[38;5;129;01mand\u001b[39;00m test:\n\u001b[32m     82\u001b[39m     \u001b[38;5;28;01mif\u001b[39;00m \u001b[38;5;28mhasattr\u001b[39m(\u001b[38;5;28mself\u001b[39m, \u001b[33m\"\u001b[39m\u001b[33m_check_clabel\u001b[39m\u001b[33m\"\u001b[39m):\n",
      "\u001b[36mFile \u001b[39m\u001b[32m~/miniconda3/envs/gt_env/lib/python3.13/site-packages/graph_tool/inference/nested_blockmodel.py:675\u001b[39m, in \u001b[36mNestedBlockState.multiflip_mcmc_sweep\u001b[39m\u001b[34m(self, **kwargs)\u001b[39m\n\u001b[32m    672\u001b[39m             a.pop(\u001b[33m\"\u001b[39m\u001b[33mb_max\u001b[39m\u001b[33m\"\u001b[39m, \u001b[38;5;28;01mNone\u001b[39;00m)\n\u001b[32m    673\u001b[39m         \u001b[38;5;28;01mreturn\u001b[39;00m s.multiflip_mcmc_sweep(**a)\n\u001b[32m--> \u001b[39m\u001b[32m675\u001b[39m     \u001b[38;5;28;01mreturn\u001b[39;00m \u001b[38;5;28;43mself\u001b[39;49m\u001b[43m.\u001b[49m\u001b[43m_h_sweep\u001b[49m\u001b[43m(\u001b[49m\u001b[43mdispatch_level\u001b[49m\u001b[43m,\u001b[49m\u001b[43m \u001b[49m\u001b[43mc\u001b[49m\u001b[43m=\u001b[49m\u001b[43mc\u001b[49m\u001b[43m,\u001b[49m\u001b[43m \u001b[49m\u001b[43m*\u001b[49m\u001b[43m*\u001b[49m\u001b[43mkwargs\u001b[49m\u001b[43m)\u001b[49m\n\u001b[32m    676\u001b[39m \u001b[38;5;28;01melse\u001b[39;00m:\n\u001b[32m    677\u001b[39m     \u001b[38;5;28;01mreturn\u001b[39;00m \u001b[38;5;28mself\u001b[39m._h_sweep_states(\u001b[38;5;28;01mlambda\u001b[39;00m s, **a: s.multiflip_mcmc_sweep(**a),\n\u001b[32m    678\u001b[39m                                 c=c, **kwargs)\n",
      "\u001b[36mFile \u001b[39m\u001b[32m~/miniconda3/envs/gt_env/lib/python3.13/site-packages/graph_tool/inference/nested_blockmodel.py:567\u001b[39m, in \u001b[36mNestedBlockState._h_sweep\u001b[39m\u001b[34m(self, algo, **kwargs)\u001b[39m\n\u001b[32m    563\u001b[39m nmoves = \u001b[32m0\u001b[39m\n\u001b[32m    565\u001b[39m \u001b[38;5;28;01mfor\u001b[39;00m l, lstate, args \u001b[38;5;129;01min\u001b[39;00m \u001b[38;5;28mself\u001b[39m._h_sweep_gen(**kwargs):\n\u001b[32m--> \u001b[39m\u001b[32m567\u001b[39m     ret = \u001b[43malgo\u001b[49m\u001b[43m(\u001b[49m\u001b[38;5;28;43mself\u001b[39;49m\u001b[43m.\u001b[49m\u001b[43mlevels\u001b[49m\u001b[43m[\u001b[49m\u001b[43ml\u001b[49m\u001b[43m]\u001b[49m\u001b[43m,\u001b[49m\u001b[43m \u001b[49m\u001b[43m*\u001b[49m\u001b[43m*\u001b[49m\u001b[38;5;28;43mdict\u001b[39;49m\u001b[43m(\u001b[49m\u001b[43margs\u001b[49m\u001b[43m,\u001b[49m\u001b[43m \u001b[49m\u001b[43mtest\u001b[49m\u001b[43m=\u001b[49m\u001b[38;5;28;43;01mFalse\u001b[39;49;00m\u001b[43m)\u001b[49m\u001b[43m)\u001b[49m\n\u001b[32m    569\u001b[39m     \u001b[38;5;28;01mif\u001b[39;00m l > \u001b[32m0\u001b[39m \u001b[38;5;129;01mand\u001b[39;00m \u001b[33m\"\u001b[39m\u001b[33mbeta_dl\u001b[39m\u001b[33m\"\u001b[39m \u001b[38;5;129;01min\u001b[39;00m entropy_args:\n\u001b[32m    570\u001b[39m         dS += ret[\u001b[32m0\u001b[39m] * entropy_args[\u001b[33m\"\u001b[39m\u001b[33mbeta_dl\u001b[39m\u001b[33m\"\u001b[39m]\n",
      "\u001b[36mFile \u001b[39m\u001b[32m~/miniconda3/envs/gt_env/lib/python3.13/site-packages/graph_tool/inference/nested_blockmodel.py:673\u001b[39m, in \u001b[36mNestedBlockState.multiflip_mcmc_sweep.<locals>.dispatch_level\u001b[39m\u001b[34m(s, **a)\u001b[39m\n\u001b[32m    671\u001b[39m     a.pop(\u001b[33m\"\u001b[39m\u001b[33mb_min\u001b[39m\u001b[33m\"\u001b[39m, \u001b[38;5;28;01mNone\u001b[39;00m)\n\u001b[32m    672\u001b[39m     a.pop(\u001b[33m\"\u001b[39m\u001b[33mb_max\u001b[39m\u001b[33m\"\u001b[39m, \u001b[38;5;28;01mNone\u001b[39;00m)\n\u001b[32m--> \u001b[39m\u001b[32m673\u001b[39m \u001b[38;5;28;01mreturn\u001b[39;00m \u001b[43ms\u001b[49m\u001b[43m.\u001b[49m\u001b[43mmultiflip_mcmc_sweep\u001b[49m\u001b[43m(\u001b[49m\u001b[43m*\u001b[49m\u001b[43m*\u001b[49m\u001b[43ma\u001b[49m\u001b[43m)\u001b[49m\n",
      "\u001b[36mFile \u001b[39m\u001b[32m~/miniconda3/envs/gt_env/lib/python3.13/site-packages/graph_tool/inference/base_states.py:79\u001b[39m, in \u001b[36mmcmc_sweep_wrap.<locals>.wrapper\u001b[39m\u001b[34m(self, *args, **kwargs)\u001b[39m\n\u001b[32m     76\u001b[39m         \u001b[38;5;28;01massert\u001b[39;00m \u001b[38;5;28mself\u001b[39m._check_clabel(), \u001b[33m\"\u001b[39m\u001b[33minvalid clabel before sweep\u001b[39m\u001b[33m\"\u001b[39m\n\u001b[32m     77\u001b[39m     Si = \u001b[38;5;28mself\u001b[39m.entropy(**entropy_args)\n\u001b[32m---> \u001b[39m\u001b[32m79\u001b[39m ret = \u001b[43mfunc\u001b[49m\u001b[43m(\u001b[49m\u001b[38;5;28;43mself\u001b[39;49m\u001b[43m,\u001b[49m\u001b[43m \u001b[49m\u001b[43m*\u001b[49m\u001b[43margs\u001b[49m\u001b[43m,\u001b[49m\u001b[43m \u001b[49m\u001b[43m*\u001b[49m\u001b[43m*\u001b[49m\u001b[43mkwargs\u001b[49m\u001b[43m)\u001b[49m\n\u001b[32m     81\u001b[39m \u001b[38;5;28;01mif\u001b[39;00m _bm_test() \u001b[38;5;129;01mand\u001b[39;00m test:\n\u001b[32m     82\u001b[39m     \u001b[38;5;28;01mif\u001b[39;00m \u001b[38;5;28mhasattr\u001b[39m(\u001b[38;5;28mself\u001b[39m, \u001b[33m\"\u001b[39m\u001b[33m_check_clabel\u001b[39m\u001b[33m\"\u001b[39m):\n",
      "\u001b[36mFile \u001b[39m\u001b[32m~/miniconda3/envs/gt_env/lib/python3.13/site-packages/graph_tool/inference/base_states.py:383\u001b[39m, in \u001b[36mMultiflipMCMCState.multiflip_mcmc_sweep\u001b[39m\u001b[34m(self, beta, c, psingle, psplit, pmerge, pmergesplit, pmovelabel, d, gibbs_sweeps, niter, entropy_args, accept_stats, verbose, **kwargs)\u001b[39m\n\u001b[32m    380\u001b[39m     \u001b[38;5;28;01mraise\u001b[39;00m \u001b[38;5;167;01mValueError\u001b[39;00m(\u001b[33m\"\u001b[39m\u001b[33munrecognized keyword arguments: \u001b[39m\u001b[33m\"\u001b[39m +\n\u001b[32m    381\u001b[39m                      \u001b[38;5;28mstr\u001b[39m(\u001b[38;5;28mlist\u001b[39m(kwargs.keys())))\n\u001b[32m    382\u001b[39m \u001b[38;5;28;01mif\u001b[39;00m dispatch:\n\u001b[32m--> \u001b[39m\u001b[32m383\u001b[39m     dS, nattempts, nmoves = \u001b[38;5;28;43mself\u001b[39;49m\u001b[43m.\u001b[49m\u001b[43m_multiflip_mcmc_sweep_dispatch\u001b[49m\u001b[43m(\u001b[49m\u001b[43mmcmc_state\u001b[49m\u001b[43m)\u001b[49m\n\u001b[32m    384\u001b[39m \u001b[38;5;28;01melse\u001b[39;00m:\n\u001b[32m    385\u001b[39m     \u001b[38;5;28;01mreturn\u001b[39;00m mcmc_state\n",
      "\u001b[36mFile \u001b[39m\u001b[32m~/miniconda3/envs/gt_env/lib/python3.13/site-packages/graph_tool/inference/blockmodel.py:1288\u001b[39m, in \u001b[36mBlockState._multiflip_mcmc_sweep_dispatch\u001b[39m\u001b[34m(self, mcmc_state)\u001b[39m\n\u001b[32m   1287\u001b[39m \u001b[38;5;28;01mdef\u001b[39;00m\u001b[38;5;250m \u001b[39m\u001b[34m_multiflip_mcmc_sweep_dispatch\u001b[39m(\u001b[38;5;28mself\u001b[39m, mcmc_state):\n\u001b[32m-> \u001b[39m\u001b[32m1288\u001b[39m     \u001b[38;5;28;01mreturn\u001b[39;00m \u001b[43mlibinference\u001b[49m\u001b[43m.\u001b[49m\u001b[43mmultiflip_mcmc_sweep\u001b[49m\u001b[43m(\u001b[49m\u001b[43mmcmc_state\u001b[49m\u001b[43m,\u001b[49m\u001b[43m \u001b[49m\u001b[38;5;28;43mself\u001b[39;49m\u001b[43m.\u001b[49m\u001b[43m_state\u001b[49m\u001b[43m,\u001b[49m\n\u001b[32m   1289\u001b[39m \u001b[43m                                             \u001b[49m\u001b[43m_get_rng\u001b[49m\u001b[43m(\u001b[49m\u001b[43m)\u001b[49m\u001b[43m)\u001b[49m\n",
      "\u001b[31mKeyboardInterrupt\u001b[39m: "
     ]
    }
   ],
   "source": [
    "# For imporving the inference if needed\n",
    "\n",
    "S1 = state.entropy()\n",
    "S = np.zeros(1001)\n",
    "S[0] = state.entropy()\n",
    "for i in tqdm(range(1000)): # this should be sufficiently large\n",
    "   state.multiflip_mcmc_sweep(beta=np.inf, niter=1000)\n",
    "   S[i+1] = state.entropy()\n",
    "\n",
    "plt.plot(S)\n",
    "plt.show()"
   ]
  },
  {
   "cell_type": "markdown",
   "id": "325838c8",
   "metadata": {},
   "source": [
    "Tab10 colors:\n",
    "- tab:blue : #1f77b4\n",
    "- tab:orange : #ff7f0e\n",
    "- tab:green : #2ca02c\n",
    "- tab:red : #d62728\n",
    "- tab:purple : #9467bd"
   ]
  },
  {
   "cell_type": "code",
   "execution_count": 7,
   "id": "fac080d8",
   "metadata": {},
   "outputs": [],
   "source": [
    "# Setting color based on phenotype\n",
    "color_dict = {\n",
    "    \"Envious\": 'tab:blue',\n",
    "    \"Optimist\": 'tab:orange',\n",
    "    \"Pessimist\": 'tab:green',\n",
    "    \"Random\": 'tab:red',\n",
    "    \"Trustful\": 'tab:purple'\n",
    "}\n",
    "vcolors = []\n",
    "for i in range(len(phenotype_table)):\n",
    "    vcolors.append(color_dict[phenotype_table[i]])\n",
    "vcolorp = g.new_vertex_property(\"string\", vals=vcolors)"
   ]
  },
  {
   "cell_type": "code",
   "execution_count": 8,
   "id": "9d09b143",
   "metadata": {},
   "outputs": [],
   "source": [
    "# Setting edges appearence\n",
    "esizes = []\n",
    "for i, j, t, l in edge_list:\n",
    "    esizes.append(float(l))\n",
    "esizep = g.new_edge_property('float', vals=esizes)"
   ]
  },
  {
   "cell_type": "code",
   "execution_count": 12,
   "id": "a7dd6e4a",
   "metadata": {},
   "outputs": [],
   "source": [
    "img = state.draw(\n",
    "            output=\"../figure/sbm_rl.png\", \n",
    "            vprops = {\n",
    "                \"size\": 6,\n",
    "                \"halo\": True,\n",
    "                \"halo_color\": vcolorp,\n",
    "                \"halo_size\": 1.8, \n",
    "                \"color\": [0, 0, 0, 0.5]\n",
    "            },\n",
    "            eprops= {\n",
    "                \"pen_width\": esizep\n",
    "            },\n",
    "            output_size=(300, 300)\n",
    ")"
   ]
  },
  {
   "cell_type": "code",
   "execution_count": null,
   "id": "9e68cfdc",
   "metadata": {},
   "outputs": [],
   "source": []
  }
 ],
 "metadata": {
  "kernelspec": {
   "display_name": "gt_env",
   "language": "python",
   "name": "python3"
  },
  "language_info": {
   "codemirror_mode": {
    "name": "ipython",
    "version": 3
   },
   "file_extension": ".py",
   "mimetype": "text/x-python",
   "name": "python",
   "nbconvert_exporter": "python",
   "pygments_lexer": "ipython3",
   "version": "3.13.3"
  }
 },
 "nbformat": 4,
 "nbformat_minor": 5
}

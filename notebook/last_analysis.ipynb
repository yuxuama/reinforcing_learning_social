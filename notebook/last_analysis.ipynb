{
 "cells": [
  {
   "cell_type": "markdown",
   "id": "518a6f36",
   "metadata": {},
   "source": [
    "# Analysis of the results"
   ]
  },
  {
   "cell_type": "code",
   "execution_count": null,
   "id": "59d043db",
   "metadata": {},
   "outputs": [],
   "source": [
    "from analysis.analysis_utils import extract_all_info_from_hdf5\n",
    "import numpy as np"
   ]
  },
  {
   "cell_type": "code",
   "execution_count": null,
   "id": "2d642151",
   "metadata": {},
   "outputs": [],
   "source": [
    "filepath = r\"..\\out\\last\\E3O2P21R12T17_S75_T0.7_M1000_N500000.h5\"\n",
    "adj_matrices, parameters = extract_all_info_from_hdf5(filepath)"
   ]
  }
 ],
 "metadata": {
  "language_info": {
   "name": "python"
  }
 },
 "nbformat": 4,
 "nbformat_minor": 5
}

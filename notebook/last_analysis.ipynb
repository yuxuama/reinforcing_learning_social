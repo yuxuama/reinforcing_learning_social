{
 "cells": [
  {
   "cell_type": "markdown",
   "id": "518a6f36",
   "metadata": {},
   "source": [
    "# Analysis of the results"
   ]
  },
  {
   "cell_type": "code",
   "execution_count": 13,
   "id": "59d043db",
   "metadata": {},
   "outputs": [],
   "source": [
    "import sys\n",
    "sys.path.append(\"..\")\n",
    "\n",
    "from analysis.analysis_utils import extract_all_info_from_hdf5\n",
    "from analysis.dataset import Dataset\n",
    "from plot.dataset_plot import plot_hist_by_phenotype\n",
    "import matplotlib.pyplot as plt\n",
    "import numpy as np"
   ]
  },
  {
   "cell_type": "code",
   "execution_count": 10,
   "id": "2d642151",
   "metadata": {},
   "outputs": [],
   "source": [
    "filepath = r\"..\\out\\last\\E3O2P21R12T17_S75_T0.7_M1000_N500000.h5\"\n",
    "adj_matrices, parameters = extract_all_info_from_hdf5(filepath)\n",
    "niter = parameters[\"Number of interaction\"]"
   ]
  },
  {
   "cell_type": "code",
   "execution_count": 12,
   "id": "054d65e3",
   "metadata": {},
   "outputs": [],
   "source": [
    "local_dt = Dataset('local')\n",
    "local_dt.init_with_matrices(adj_matrices, parameters, niter)"
   ]
  },
  {
   "cell_type": "code",
   "execution_count": null,
   "id": "a4bd7217",
   "metadata": {},
   "outputs": [],
   "source": [
    "plot_hist_by_phenotype(local_dt, 'pPD')\n",
    "plt.show()"
   ]
  },
  {
   "cell_type": "code",
   "execution_count": null,
   "id": "5bb78db9",
   "metadata": {},
   "outputs": [],
   "source": []
  }
 ],
 "metadata": {
  "kernelspec": {
   "display_name": "base",
   "language": "python",
   "name": "python3"
  },
  "language_info": {
   "codemirror_mode": {
    "name": "ipython",
    "version": 3
   },
   "file_extension": ".py",
   "mimetype": "text/x-python",
   "name": "python",
   "nbconvert_exporter": "python",
   "pygments_lexer": "ipython3",
   "version": "3.12.7"
  }
 },
 "nbformat": 4,
 "nbformat_minor": 5
}
